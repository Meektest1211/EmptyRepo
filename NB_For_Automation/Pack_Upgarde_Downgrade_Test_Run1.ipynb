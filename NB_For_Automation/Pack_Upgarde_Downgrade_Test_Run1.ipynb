{
 "cells": [
  {
   "cell_type": "code",
   "execution_count": 1,
   "id": "278242fc",
   "metadata": {},
   "outputs": [],
   "source": [
    "import scipy"
   ]
  },
  {
   "cell_type": "code",
   "execution_count": null,
   "id": "c0ebb2aa",
   "metadata": {},
   "outputs": [],
   "source": [
    "assert scipy.__version__ == \"1.5.4\""
   ]
  },
  {
   "cell_type": "code",
   "execution_count": null,
   "id": "580a4695",
   "metadata": {},
   "outputs": [],
   "source": [
    "assert \"/packages\" in scipy.__file__"
   ]
  }
 ],
 "metadata": {
  "kernelspec": {
   "display_name": "Python 3",
   "language": "python",
   "name": "python3"
  },
  "language_info": {
   "codemirror_mode": {
    "name": "ipython",
    "version": 3
   },
   "file_extension": ".py",
   "mimetype": "text/x-python",
   "name": "python",
   "nbconvert_exporter": "python",
   "pygments_lexer": "ipython3",
   "version": "3.7.12"
  }
 },
 "nbformat": 4,
 "nbformat_minor": 5
}
