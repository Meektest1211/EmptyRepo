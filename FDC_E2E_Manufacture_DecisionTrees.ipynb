{
 "cells": [
  {
   "cell_type": "markdown",
   "id": "92de6c5a",
   "metadata": {},
   "source": [
    "#  Step 1  A.Load Data: Import the dataset"
   ]
  },
  {
   "cell_type": "code",
   "execution_count": 1,
   "id": "cb84f3b8",
   "metadata": {},
   "outputs": [],
   "source": [
    "import pandas as pd\n",
    "Finaldata = pd.read_csv(\"/data/ManufactureFinalDatastes.csv\")"
   ]
  },
  {
   "cell_type": "code",
   "execution_count": 2,
   "id": "3061af06",
   "metadata": {},
   "outputs": [
    {
     "name": "stdout",
     "output_type": "stream",
     "text": [
      "        Unnamed: 0 EquipmentID         Timestamp  Temperature  Vibration  \\\n",
      "0                0   Equip_007  01-01-2023 00:00     0.682891   0.370087   \n",
      "1                1   Equip_007  01-01-2023 00:00     0.682891   0.370087   \n",
      "2                2   Equip_007  01-01-2023 00:00     0.682891   0.370087   \n",
      "3                3   Equip_007  01-01-2023 00:00     0.682891   0.370087   \n",
      "4                4   Equip_007  01-01-2023 00:00     0.682891   0.370087   \n",
      "...            ...         ...               ...          ...        ...   \n",
      "249858      249858   Equip_013  28-07-2023 00:00     0.253512   0.964459   \n",
      "249859      249859   Equip_013  28-07-2023 00:00     0.253512   0.964459   \n",
      "249860      249860   Equip_013  28-07-2023 00:00     0.253512   0.964459   \n",
      "249861      249861   Equip_013  28-07-2023 00:00     0.253512   0.964459   \n",
      "249862      249862   Equip_013  28-07-2023 00:00     0.253512   0.964459   \n",
      "\n",
      "        Pressure  OperationalLoad     RecordID   MaintenanceDate  \\\n",
      "0       0.145886         0.429187  Record_0004  02-01-2023 12:00   \n",
      "1       0.145886         0.429187  Record_0022  11-01-2023 12:00   \n",
      "2       0.145886         0.429187  Record_0034  17-01-2023 12:00   \n",
      "3       0.145886         0.429187  Record_0038  19-01-2023 12:00   \n",
      "4       0.145886         0.429187  Record_0130  06-03-2023 12:00   \n",
      "...          ...              ...          ...               ...   \n",
      "249858  0.066341         0.136660  Record_0897  24-03-2024 00:00   \n",
      "249859  0.066341         0.136660  Record_0919  04-04-2024 00:00   \n",
      "249860  0.066341         0.136660  Record_0945  17-04-2024 00:00   \n",
      "249861  0.066341         0.136660  Record_0966  27-04-2024 12:00   \n",
      "249862  0.066341         0.136660  Record_0995  12-05-2024 00:00   \n",
      "\n",
      "       MaintenanceType  ...  2  3  Temperature_7d_avg  Vibration_7d_avg  \\\n",
      "0           Preventive  ...  0  1                 NaN               NaN   \n",
      "1           Diagnostic  ...  0  0                 NaN               NaN   \n",
      "2           Corrective  ...  0  0                 NaN               NaN   \n",
      "3            Emergency  ...  1  0                 NaN               NaN   \n",
      "4           Diagnostic  ...  0  0                 NaN               NaN   \n",
      "...                ...  ... .. ..                 ...               ...   \n",
      "249858       Emergency  ...  1  0            0.364076          0.888462   \n",
      "249859      Corrective  ...  0  0            0.364076          0.888462   \n",
      "249860      Corrective  ...  0  0            0.364076          0.888462   \n",
      "249861      Corrective  ...  0  0            0.364076          0.888462   \n",
      "249862      Diagnostic  ...  0  0            0.364076          0.888462   \n",
      "\n",
      "        Pressure_7d_avg  time_since_last_maintenance       sum  \\\n",
      "0                   NaN            499 days 12:00:00  1.052978   \n",
      "1                   NaN            499 days 12:00:00  1.052978   \n",
      "2                   NaN            499 days 12:00:00  1.052978   \n",
      "3                   NaN            499 days 12:00:00  1.052978   \n",
      "4                   NaN            499 days 12:00:00  1.052978   \n",
      "...                 ...                          ...       ...   \n",
      "249858         0.926992            291 days 12:00:00  1.217971   \n",
      "249859         0.926992            291 days 12:00:00  1.217971   \n",
      "249860         0.926992            291 days 12:00:00  1.217971   \n",
      "249861         0.926992            291 days 12:00:00  1.217971   \n",
      "249862         0.926992            291 days 12:00:00  1.217971   \n",
      "\n",
      "        OperationalEfficiency  OperationalLoad_7d_avg FailureFlag  \n",
      "0                    0.407594                     NaN           1  \n",
      "1                    0.407594                     NaN           0  \n",
      "2                    0.407594                     NaN           0  \n",
      "3                    0.407594                     NaN           1  \n",
      "4                    0.407594                     NaN           1  \n",
      "...                       ...                     ...         ...  \n",
      "249858               0.112203                0.145082           0  \n",
      "249859               0.112203                0.145082           0  \n",
      "249860               0.112203                0.145082           1  \n",
      "249861               0.112203                0.145082           1  \n",
      "249862               0.112203                0.145082           0  \n",
      "\n",
      "[249863 rows x 24 columns]\n"
     ]
    }
   ],
   "source": [
    "print(Finaldata)"
   ]
  },
  {
   "cell_type": "code",
   "execution_count": 3,
   "id": "ffa2d4a0",
   "metadata": {},
   "outputs": [],
   "source": [
    "Finaldata['time_since_last_maintenance'] = Finaldata['time_since_last_maintenance'].str[:3]"
   ]
  },
  {
   "cell_type": "code",
   "execution_count": 4,
   "id": "948564a3",
   "metadata": {},
   "outputs": [
    {
     "data": {
      "text/plain": [
       "0         499\n",
       "1         499\n",
       "2         499\n",
       "3         499\n",
       "4         499\n",
       "         ... \n",
       "249858    291\n",
       "249859    291\n",
       "249860    291\n",
       "249861    291\n",
       "249862    291\n",
       "Name: time_since_last_maintenance, Length: 249863, dtype: object"
      ]
     },
     "execution_count": 4,
     "metadata": {},
     "output_type": "execute_result"
    }
   ],
   "source": [
    "Finaldata['time_since_last_maintenance']"
   ]
  },
  {
   "cell_type": "code",
   "execution_count": 5,
   "id": "346de85c",
   "metadata": {},
   "outputs": [],
   "source": [
    "Finaldata['time_since_last_maintenance'] = Finaldata['time_since_last_maintenance'].astype(int)"
   ]
  },
  {
   "cell_type": "code",
   "execution_count": 6,
   "id": "bc0ef54a",
   "metadata": {},
   "outputs": [],
   "source": [
    "from tqdm import tqdm\n",
    "dtypes = pd.DataFrame(Finaldata.dtypes)\n",
    "dtypes.reset_index(inplace=True)"
   ]
  },
  {
   "cell_type": "code",
   "execution_count": 7,
   "id": "e5ae3ed9",
   "metadata": {},
   "outputs": [
    {
     "name": "stderr",
     "output_type": "stream",
     "text": [
      "100%|██████████| 24/24 [00:00<00:00, 275.05it/s]\n"
     ]
    }
   ],
   "source": [
    "for i_ in tqdm(range(len(dtypes))):\n",
    "    col_name = dtypes[\"index\"].iloc[i_]\n",
    "    if Finaldata[col_name].isna().sum() != 0:\n",
    "        if Finaldata[col_name].dtype != \"object\":\n",
    "            Finaldata[col_name].fillna(value=Finaldata[col_name].mean(), inplace=True)\n",
    "        else:\n",
    "            Finaldata[col_name].fillna(value=Finaldata[col_name].mode()[0], inplace=True)"
   ]
  },
  {
   "cell_type": "code",
   "execution_count": 8,
   "id": "5236e876",
   "metadata": {},
   "outputs": [
    {
     "name": "stdout",
     "output_type": "stream",
     "text": [
      "        Unnamed: 0 EquipmentID         Timestamp  Temperature  Vibration  \\\n",
      "0                0   Equip_007  01-01-2023 00:00     0.682891   0.370087   \n",
      "1                1   Equip_007  01-01-2023 00:00     0.682891   0.370087   \n",
      "2                2   Equip_007  01-01-2023 00:00     0.682891   0.370087   \n",
      "3                3   Equip_007  01-01-2023 00:00     0.682891   0.370087   \n",
      "4                4   Equip_007  01-01-2023 00:00     0.682891   0.370087   \n",
      "...            ...         ...               ...          ...        ...   \n",
      "249858      249858   Equip_013  28-07-2023 00:00     0.253512   0.964459   \n",
      "249859      249859   Equip_013  28-07-2023 00:00     0.253512   0.964459   \n",
      "249860      249860   Equip_013  28-07-2023 00:00     0.253512   0.964459   \n",
      "249861      249861   Equip_013  28-07-2023 00:00     0.253512   0.964459   \n",
      "249862      249862   Equip_013  28-07-2023 00:00     0.253512   0.964459   \n",
      "\n",
      "        Pressure  OperationalLoad     RecordID   MaintenanceDate  \\\n",
      "0       0.145886         0.429187  Record_0004  02-01-2023 12:00   \n",
      "1       0.145886         0.429187  Record_0022  11-01-2023 12:00   \n",
      "2       0.145886         0.429187  Record_0034  17-01-2023 12:00   \n",
      "3       0.145886         0.429187  Record_0038  19-01-2023 12:00   \n",
      "4       0.145886         0.429187  Record_0130  06-03-2023 12:00   \n",
      "...          ...              ...          ...               ...   \n",
      "249858  0.066341         0.136660  Record_0897  24-03-2024 00:00   \n",
      "249859  0.066341         0.136660  Record_0919  04-04-2024 00:00   \n",
      "249860  0.066341         0.136660  Record_0945  17-04-2024 00:00   \n",
      "249861  0.066341         0.136660  Record_0966  27-04-2024 12:00   \n",
      "249862  0.066341         0.136660  Record_0995  12-05-2024 00:00   \n",
      "\n",
      "       MaintenanceType  ...  2  3  Temperature_7d_avg  Vibration_7d_avg  \\\n",
      "0           Preventive  ...  0  1            0.491168          0.499795   \n",
      "1           Diagnostic  ...  0  0            0.491168          0.499795   \n",
      "2           Corrective  ...  0  0            0.491168          0.499795   \n",
      "3            Emergency  ...  1  0            0.491168          0.499795   \n",
      "4           Diagnostic  ...  0  0            0.491168          0.499795   \n",
      "...                ...  ... .. ..                 ...               ...   \n",
      "249858       Emergency  ...  1  0            0.364076          0.888462   \n",
      "249859      Corrective  ...  0  0            0.364076          0.888462   \n",
      "249860      Corrective  ...  0  0            0.364076          0.888462   \n",
      "249861      Corrective  ...  0  0            0.364076          0.888462   \n",
      "249862      Diagnostic  ...  0  0            0.364076          0.888462   \n",
      "\n",
      "        Pressure_7d_avg  time_since_last_maintenance       sum  \\\n",
      "0              0.505888                          499  1.052978   \n",
      "1              0.505888                          499  1.052978   \n",
      "2              0.505888                          499  1.052978   \n",
      "3              0.505888                          499  1.052978   \n",
      "4              0.505888                          499  1.052978   \n",
      "...                 ...                          ...       ...   \n",
      "249858         0.926992                          291  1.217971   \n",
      "249859         0.926992                          291  1.217971   \n",
      "249860         0.926992                          291  1.217971   \n",
      "249861         0.926992                          291  1.217971   \n",
      "249862         0.926992                          291  1.217971   \n",
      "\n",
      "        OperationalEfficiency  OperationalLoad_7d_avg  FailureFlag  \n",
      "0                    0.407594                0.510878            1  \n",
      "1                    0.407594                0.510878            0  \n",
      "2                    0.407594                0.510878            0  \n",
      "3                    0.407594                0.510878            1  \n",
      "4                    0.407594                0.510878            1  \n",
      "...                       ...                     ...          ...  \n",
      "249858               0.112203                0.145082            0  \n",
      "249859               0.112203                0.145082            0  \n",
      "249860               0.112203                0.145082            1  \n",
      "249861               0.112203                0.145082            1  \n",
      "249862               0.112203                0.145082            0  \n",
      "\n",
      "[249863 rows x 24 columns]\n"
     ]
    }
   ],
   "source": [
    "print(Finaldata)"
   ]
  },
  {
   "cell_type": "code",
   "execution_count": 9,
   "id": "24d7f773",
   "metadata": {},
   "outputs": [
    {
     "data": {
      "text/plain": [
       "['Unnamed: 0',\n",
       " 'EquipmentID',\n",
       " 'Timestamp',\n",
       " 'Temperature',\n",
       " 'Vibration',\n",
       " 'Pressure',\n",
       " 'OperationalLoad',\n",
       " 'RecordID',\n",
       " 'MaintenanceDate',\n",
       " 'MaintenanceType',\n",
       " 'Description',\n",
       " 'MainType_new',\n",
       " '0',\n",
       " '1',\n",
       " '2',\n",
       " '3',\n",
       " 'Temperature_7d_avg',\n",
       " 'Vibration_7d_avg',\n",
       " 'Pressure_7d_avg',\n",
       " 'time_since_last_maintenance',\n",
       " 'sum',\n",
       " 'OperationalEfficiency',\n",
       " 'OperationalLoad_7d_avg',\n",
       " 'FailureFlag']"
      ]
     },
     "execution_count": 9,
     "metadata": {},
     "output_type": "execute_result"
    }
   ],
   "source": [
    "list(Finaldata.columns)"
   ]
  },
  {
   "cell_type": "markdown",
   "id": "2a0d70e4",
   "metadata": {},
   "source": [
    "# B.Feature Selection"
   ]
  },
  {
   "cell_type": "code",
   "execution_count": 10,
   "id": "8c0daaa7",
   "metadata": {},
   "outputs": [],
   "source": [
    "features = Finaldata.drop(columns=['EquipmentID', 'Timestamp', 'FailureFlag'])  # Adjust based on your target variable\n",
    "target = Finaldata['FailureFlag']  # Or another continuous variable for regression\n"
   ]
  },
  {
   "cell_type": "code",
   "execution_count": 11,
   "id": "4cdae413",
   "metadata": {},
   "outputs": [],
   "source": [
    "Finaldata_x = Finaldata[['Temperature','Vibration','Pressure','OperationalLoad','Temperature_7d_avg',\n",
    " 'Vibration_7d_avg','Pressure_7d_avg','time_since_last_maintenance','sum','OperationalEfficiency','OperationalLoad_7d_avg' ]]\n",
    "Finaldata_y = Finaldata['FailureFlag']\n",
    "# X= training columns and Y is target column"
   ]
  },
  {
   "cell_type": "code",
   "execution_count": 12,
   "id": "6992db58",
   "metadata": {},
   "outputs": [
    {
     "data": {
      "text/plain": [
       "0    1\n",
       "1    0\n",
       "2    0\n",
       "3    1\n",
       "4    1\n",
       "Name: FailureFlag, dtype: int64"
      ]
     },
     "execution_count": 12,
     "metadata": {},
     "output_type": "execute_result"
    }
   ],
   "source": [
    "Finaldata_y.head()"
   ]
  },
  {
   "cell_type": "markdown",
   "id": "6e667d31",
   "metadata": {},
   "source": [
    "# C.Split Data: Divide the dataset into training and testing sets."
   ]
  },
  {
   "cell_type": "code",
   "execution_count": 13,
   "id": "801d5766",
   "metadata": {},
   "outputs": [],
   "source": [
    "X = Finaldata_x\n",
    "Y = Finaldata_y\n"
   ]
  },
  {
   "cell_type": "code",
   "execution_count": 14,
   "id": "0b9c06fe",
   "metadata": {},
   "outputs": [],
   "source": [
    "from sklearn.model_selection import train_test_split\n",
    "X_train, X_test, Y_train, Y_test = train_test_split(X, Y, test_size=0.2, random_state=42)"
   ]
  },
  {
   "cell_type": "code",
   "execution_count": null,
   "id": "62cfad83",
   "metadata": {},
   "outputs": [],
   "source": []
  },
  {
   "cell_type": "markdown",
   "id": "60ea87b1",
   "metadata": {},
   "source": [
    "# Step 2: Initialize the Decision Tree Model"
   ]
  },
  {
   "cell_type": "code",
   "execution_count": 15,
   "id": "9d9458fd",
   "metadata": {},
   "outputs": [],
   "source": [
    "from sklearn.tree import DecisionTreeRegressor\n",
    "tree_model = DecisionTreeRegressor(random_state=42)  #Create an Instance: Initialize the Decision Tree model "
   ]
  },
  {
   "cell_type": "markdown",
   "id": "655416ff",
   "metadata": {},
   "source": [
    "# Step 3: Train the Model"
   ]
  },
  {
   "cell_type": "code",
   "execution_count": 16,
   "id": "d08fedda",
   "metadata": {},
   "outputs": [
    {
     "data": {
      "text/html": [
       "<style>#sk-container-id-1 {color: black;background-color: white;}#sk-container-id-1 pre{padding: 0;}#sk-container-id-1 div.sk-toggleable {background-color: white;}#sk-container-id-1 label.sk-toggleable__label {cursor: pointer;display: block;width: 100%;margin-bottom: 0;padding: 0.3em;box-sizing: border-box;text-align: center;}#sk-container-id-1 label.sk-toggleable__label-arrow:before {content: \"▸\";float: left;margin-right: 0.25em;color: #696969;}#sk-container-id-1 label.sk-toggleable__label-arrow:hover:before {color: black;}#sk-container-id-1 div.sk-estimator:hover label.sk-toggleable__label-arrow:before {color: black;}#sk-container-id-1 div.sk-toggleable__content {max-height: 0;max-width: 0;overflow: hidden;text-align: left;background-color: #f0f8ff;}#sk-container-id-1 div.sk-toggleable__content pre {margin: 0.2em;color: black;border-radius: 0.25em;background-color: #f0f8ff;}#sk-container-id-1 input.sk-toggleable__control:checked~div.sk-toggleable__content {max-height: 200px;max-width: 100%;overflow: auto;}#sk-container-id-1 input.sk-toggleable__control:checked~label.sk-toggleable__label-arrow:before {content: \"▾\";}#sk-container-id-1 div.sk-estimator input.sk-toggleable__control:checked~label.sk-toggleable__label {background-color: #d4ebff;}#sk-container-id-1 div.sk-label input.sk-toggleable__control:checked~label.sk-toggleable__label {background-color: #d4ebff;}#sk-container-id-1 input.sk-hidden--visually {border: 0;clip: rect(1px 1px 1px 1px);clip: rect(1px, 1px, 1px, 1px);height: 1px;margin: -1px;overflow: hidden;padding: 0;position: absolute;width: 1px;}#sk-container-id-1 div.sk-estimator {font-family: monospace;background-color: #f0f8ff;border: 1px dotted black;border-radius: 0.25em;box-sizing: border-box;margin-bottom: 0.5em;}#sk-container-id-1 div.sk-estimator:hover {background-color: #d4ebff;}#sk-container-id-1 div.sk-parallel-item::after {content: \"\";width: 100%;border-bottom: 1px solid gray;flex-grow: 1;}#sk-container-id-1 div.sk-label:hover label.sk-toggleable__label {background-color: #d4ebff;}#sk-container-id-1 div.sk-serial::before {content: \"\";position: absolute;border-left: 1px solid gray;box-sizing: border-box;top: 0;bottom: 0;left: 50%;z-index: 0;}#sk-container-id-1 div.sk-serial {display: flex;flex-direction: column;align-items: center;background-color: white;padding-right: 0.2em;padding-left: 0.2em;position: relative;}#sk-container-id-1 div.sk-item {position: relative;z-index: 1;}#sk-container-id-1 div.sk-parallel {display: flex;align-items: stretch;justify-content: center;background-color: white;position: relative;}#sk-container-id-1 div.sk-item::before, #sk-container-id-1 div.sk-parallel-item::before {content: \"\";position: absolute;border-left: 1px solid gray;box-sizing: border-box;top: 0;bottom: 0;left: 50%;z-index: -1;}#sk-container-id-1 div.sk-parallel-item {display: flex;flex-direction: column;z-index: 1;position: relative;background-color: white;}#sk-container-id-1 div.sk-parallel-item:first-child::after {align-self: flex-end;width: 50%;}#sk-container-id-1 div.sk-parallel-item:last-child::after {align-self: flex-start;width: 50%;}#sk-container-id-1 div.sk-parallel-item:only-child::after {width: 0;}#sk-container-id-1 div.sk-dashed-wrapped {border: 1px dashed gray;margin: 0 0.4em 0.5em 0.4em;box-sizing: border-box;padding-bottom: 0.4em;background-color: white;}#sk-container-id-1 div.sk-label label {font-family: monospace;font-weight: bold;display: inline-block;line-height: 1.2em;}#sk-container-id-1 div.sk-label-container {text-align: center;}#sk-container-id-1 div.sk-container {/* jupyter's `normalize.less` sets `[hidden] { display: none; }` but bootstrap.min.css set `[hidden] { display: none !important; }` so we also need the `!important` here to be able to override the default hidden behavior on the sphinx rendered scikit-learn.org. See: https://github.com/scikit-learn/scikit-learn/issues/21755 */display: inline-block !important;position: relative;}#sk-container-id-1 div.sk-text-repr-fallback {display: none;}</style><div id=\"sk-container-id-1\" class=\"sk-top-container\"><div class=\"sk-text-repr-fallback\"><pre>DecisionTreeRegressor(random_state=42)</pre><b>In a Jupyter environment, please rerun this cell to show the HTML representation or trust the notebook. <br />On GitHub, the HTML representation is unable to render, please try loading this page with nbviewer.org.</b></div><div class=\"sk-container\" hidden><div class=\"sk-item\"><div class=\"sk-estimator sk-toggleable\"><input class=\"sk-toggleable__control sk-hidden--visually\" id=\"sk-estimator-id-1\" type=\"checkbox\" checked><label for=\"sk-estimator-id-1\" class=\"sk-toggleable__label sk-toggleable__label-arrow\">DecisionTreeRegressor</label><div class=\"sk-toggleable__content\"><pre>DecisionTreeRegressor(random_state=42)</pre></div></div></div></div></div>"
      ],
      "text/plain": [
       "DecisionTreeRegressor(random_state=42)"
      ]
     },
     "execution_count": 16,
     "metadata": {},
     "output_type": "execute_result"
    }
   ],
   "source": [
    "tree_model.fit(X_train, Y_train)"
   ]
  },
  {
   "cell_type": "code",
   "execution_count": 17,
   "id": "02529082",
   "metadata": {},
   "outputs": [],
   "source": [
    "y_pred = tree_model.predict(X_test)"
   ]
  },
  {
   "cell_type": "code",
   "execution_count": 29,
   "id": "37c3b248",
   "metadata": {},
   "outputs": [
    {
     "name": "stdout",
     "output_type": "stream",
     "text": [
      "Mean Squared Error: 0.2501284123243217\n",
      "R-squared: -0.0005544202854106395\n"
     ]
    }
   ],
   "source": [
    "#Calculate model matrix\n",
    "from sklearn.metrics import mean_squared_error, r2_score\n",
    "mse = mean_squared_error(Y_test, y_pred)\n",
    "r2 = r2_score(Y_test, y_pred)\n",
    "print(f\"Mean Squared Error: {mse}\")\n",
    "print(f\"R-squared: {r2}\")"
   ]
  },
  {
   "cell_type": "code",
   "execution_count": 28,
   "id": "b7f0c316",
   "metadata": {},
   "outputs": [],
   "source": [
    "from sklearn.model_selection import GridSearchCV\n",
    "\n",
    "param_grid = {\n",
    "    'max_depth': [3, 5, 10, None],\n",
    "    'min_samples_split': [2, 5, 10],\n",
    "    'min_samples_leaf': [1, 2, 5, 10]\n",
    "}"
   ]
  },
  {
   "cell_type": "code",
   "execution_count": 70,
   "id": "405cdf74",
   "metadata": {},
   "outputs": [],
   "source": [
    "from sklearn.model_selection import GridSearchCV\n",
    "\n",
    "param_grid = {\n",
    "    'max_depth': [None, 70, 100, 150],\n",
    "    'min_samples_split': [40, 80, 150, 200],\n",
    "    'min_samples_leaf': [50, 100, 120, 150]\n",
    "}"
   ]
  },
  {
   "cell_type": "code",
   "execution_count": 69,
   "id": "868a62de",
   "metadata": {},
   "outputs": [
    {
     "name": "stdout",
     "output_type": "stream",
     "text": [
      "Mean Squared Error: 0.249995085577754\n",
      "R-squared: -2.1091566849706922e-05\n"
     ]
    }
   ],
   "source": [
    "#Calculate model matrix\n",
    "from sklearn.metrics import mean_squared_error, r2_score\n",
    "mse = mean_squared_error(Y_test, y_pred)\n",
    "r2 = r2_score(Y_test, y_pred)\n",
    "print(f\"Mean Squared Error: {mse}\")\n",
    "print(f\"R-squared: {r2}\")"
   ]
  },
  {
   "cell_type": "code",
   "execution_count": 71,
   "id": "413f7cc1",
   "metadata": {},
   "outputs": [
    {
     "data": {
      "text/html": [
       "<style>#sk-container-id-8 {color: black;background-color: white;}#sk-container-id-8 pre{padding: 0;}#sk-container-id-8 div.sk-toggleable {background-color: white;}#sk-container-id-8 label.sk-toggleable__label {cursor: pointer;display: block;width: 100%;margin-bottom: 0;padding: 0.3em;box-sizing: border-box;text-align: center;}#sk-container-id-8 label.sk-toggleable__label-arrow:before {content: \"▸\";float: left;margin-right: 0.25em;color: #696969;}#sk-container-id-8 label.sk-toggleable__label-arrow:hover:before {color: black;}#sk-container-id-8 div.sk-estimator:hover label.sk-toggleable__label-arrow:before {color: black;}#sk-container-id-8 div.sk-toggleable__content {max-height: 0;max-width: 0;overflow: hidden;text-align: left;background-color: #f0f8ff;}#sk-container-id-8 div.sk-toggleable__content pre {margin: 0.2em;color: black;border-radius: 0.25em;background-color: #f0f8ff;}#sk-container-id-8 input.sk-toggleable__control:checked~div.sk-toggleable__content {max-height: 200px;max-width: 100%;overflow: auto;}#sk-container-id-8 input.sk-toggleable__control:checked~label.sk-toggleable__label-arrow:before {content: \"▾\";}#sk-container-id-8 div.sk-estimator input.sk-toggleable__control:checked~label.sk-toggleable__label {background-color: #d4ebff;}#sk-container-id-8 div.sk-label input.sk-toggleable__control:checked~label.sk-toggleable__label {background-color: #d4ebff;}#sk-container-id-8 input.sk-hidden--visually {border: 0;clip: rect(1px 1px 1px 1px);clip: rect(1px, 1px, 1px, 1px);height: 1px;margin: -1px;overflow: hidden;padding: 0;position: absolute;width: 1px;}#sk-container-id-8 div.sk-estimator {font-family: monospace;background-color: #f0f8ff;border: 1px dotted black;border-radius: 0.25em;box-sizing: border-box;margin-bottom: 0.5em;}#sk-container-id-8 div.sk-estimator:hover {background-color: #d4ebff;}#sk-container-id-8 div.sk-parallel-item::after {content: \"\";width: 100%;border-bottom: 1px solid gray;flex-grow: 1;}#sk-container-id-8 div.sk-label:hover label.sk-toggleable__label {background-color: #d4ebff;}#sk-container-id-8 div.sk-serial::before {content: \"\";position: absolute;border-left: 1px solid gray;box-sizing: border-box;top: 0;bottom: 0;left: 50%;z-index: 0;}#sk-container-id-8 div.sk-serial {display: flex;flex-direction: column;align-items: center;background-color: white;padding-right: 0.2em;padding-left: 0.2em;position: relative;}#sk-container-id-8 div.sk-item {position: relative;z-index: 1;}#sk-container-id-8 div.sk-parallel {display: flex;align-items: stretch;justify-content: center;background-color: white;position: relative;}#sk-container-id-8 div.sk-item::before, #sk-container-id-8 div.sk-parallel-item::before {content: \"\";position: absolute;border-left: 1px solid gray;box-sizing: border-box;top: 0;bottom: 0;left: 50%;z-index: -1;}#sk-container-id-8 div.sk-parallel-item {display: flex;flex-direction: column;z-index: 1;position: relative;background-color: white;}#sk-container-id-8 div.sk-parallel-item:first-child::after {align-self: flex-end;width: 50%;}#sk-container-id-8 div.sk-parallel-item:last-child::after {align-self: flex-start;width: 50%;}#sk-container-id-8 div.sk-parallel-item:only-child::after {width: 0;}#sk-container-id-8 div.sk-dashed-wrapped {border: 1px dashed gray;margin: 0 0.4em 0.5em 0.4em;box-sizing: border-box;padding-bottom: 0.4em;background-color: white;}#sk-container-id-8 div.sk-label label {font-family: monospace;font-weight: bold;display: inline-block;line-height: 1.2em;}#sk-container-id-8 div.sk-label-container {text-align: center;}#sk-container-id-8 div.sk-container {/* jupyter's `normalize.less` sets `[hidden] { display: none; }` but bootstrap.min.css set `[hidden] { display: none !important; }` so we also need the `!important` here to be able to override the default hidden behavior on the sphinx rendered scikit-learn.org. See: https://github.com/scikit-learn/scikit-learn/issues/21755 */display: inline-block !important;position: relative;}#sk-container-id-8 div.sk-text-repr-fallback {display: none;}</style><div id=\"sk-container-id-8\" class=\"sk-top-container\"><div class=\"sk-text-repr-fallback\"><pre>GridSearchCV(cv=5, estimator=DecisionTreeRegressor(random_state=42),\n",
       "             param_grid={&#x27;max_depth&#x27;: [None, 70, 100, 150],\n",
       "                         &#x27;min_samples_leaf&#x27;: [50, 100, 120, 150],\n",
       "                         &#x27;min_samples_split&#x27;: [40, 80, 150, 200]},\n",
       "             scoring=&#x27;neg_mean_squared_error&#x27;)</pre><b>In a Jupyter environment, please rerun this cell to show the HTML representation or trust the notebook. <br />On GitHub, the HTML representation is unable to render, please try loading this page with nbviewer.org.</b></div><div class=\"sk-container\" hidden><div class=\"sk-item sk-dashed-wrapped\"><div class=\"sk-label-container\"><div class=\"sk-label sk-toggleable\"><input class=\"sk-toggleable__control sk-hidden--visually\" id=\"sk-estimator-id-20\" type=\"checkbox\" ><label for=\"sk-estimator-id-20\" class=\"sk-toggleable__label sk-toggleable__label-arrow\">GridSearchCV</label><div class=\"sk-toggleable__content\"><pre>GridSearchCV(cv=5, estimator=DecisionTreeRegressor(random_state=42),\n",
       "             param_grid={&#x27;max_depth&#x27;: [None, 70, 100, 150],\n",
       "                         &#x27;min_samples_leaf&#x27;: [50, 100, 120, 150],\n",
       "                         &#x27;min_samples_split&#x27;: [40, 80, 150, 200]},\n",
       "             scoring=&#x27;neg_mean_squared_error&#x27;)</pre></div></div></div><div class=\"sk-parallel\"><div class=\"sk-parallel-item\"><div class=\"sk-item\"><div class=\"sk-label-container\"><div class=\"sk-label sk-toggleable\"><input class=\"sk-toggleable__control sk-hidden--visually\" id=\"sk-estimator-id-21\" type=\"checkbox\" ><label for=\"sk-estimator-id-21\" class=\"sk-toggleable__label sk-toggleable__label-arrow\">estimator: DecisionTreeRegressor</label><div class=\"sk-toggleable__content\"><pre>DecisionTreeRegressor(random_state=42)</pre></div></div></div><div class=\"sk-serial\"><div class=\"sk-item\"><div class=\"sk-estimator sk-toggleable\"><input class=\"sk-toggleable__control sk-hidden--visually\" id=\"sk-estimator-id-22\" type=\"checkbox\" ><label for=\"sk-estimator-id-22\" class=\"sk-toggleable__label sk-toggleable__label-arrow\">DecisionTreeRegressor</label><div class=\"sk-toggleable__content\"><pre>DecisionTreeRegressor(random_state=42)</pre></div></div></div></div></div></div></div></div></div></div>"
      ],
      "text/plain": [
       "GridSearchCV(cv=5, estimator=DecisionTreeRegressor(random_state=42),\n",
       "             param_grid={'max_depth': [None, 70, 100, 150],\n",
       "                         'min_samples_leaf': [50, 100, 120, 150],\n",
       "                         'min_samples_split': [40, 80, 150, 200]},\n",
       "             scoring='neg_mean_squared_error')"
      ]
     },
     "execution_count": 71,
     "metadata": {},
     "output_type": "execute_result"
    }
   ],
   "source": [
    "grid_search = GridSearchCV(tree_model, param_grid, cv=5, scoring='neg_mean_squared_error')\n",
    "grid_search.fit(X_train, Y_train)"
   ]
  },
  {
   "cell_type": "code",
   "execution_count": 65,
   "id": "d2366543",
   "metadata": {},
   "outputs": [],
   "source": [
    "best_tree_model = grid_search.best_estimator_"
   ]
  },
  {
   "cell_type": "code",
   "execution_count": 66,
   "id": "782b2e8d",
   "metadata": {},
   "outputs": [],
   "source": [
    "best_model_prediction = best_tree_model.predict(X_test)"
   ]
  },
  {
   "cell_type": "code",
   "execution_count": 67,
   "id": "0dd2d1ae",
   "metadata": {},
   "outputs": [],
   "source": [
    "y_pred = best_tree_model.predict(X_test)\n",
    "mse = mean_squared_error(Y_test, y_pred)\n",
    "r2 = r2_score(Y_test, y_pred)"
   ]
  },
  {
   "cell_type": "code",
   "execution_count": 68,
   "id": "d74911aa",
   "metadata": {},
   "outputs": [
    {
     "name": "stdout",
     "output_type": "stream",
     "text": [
      "Mean Squared Error: 0.249995085577754\n",
      "R-squared: -2.1091566849706922e-05\n"
     ]
    }
   ],
   "source": [
    "print(f\"Mean Squared Error: {mse}\")\n",
    "print(f\"R-squared: {r2}\")"
   ]
  },
  {
   "cell_type": "code",
   "execution_count": null,
   "id": "5df8d284",
   "metadata": {},
   "outputs": [],
   "source": []
  },
  {
   "cell_type": "code",
   "execution_count": null,
   "id": "8c09bdcc",
   "metadata": {},
   "outputs": [],
   "source": []
  },
  {
   "cell_type": "code",
   "execution_count": null,
   "id": "3977e9dc",
   "metadata": {},
   "outputs": [],
   "source": []
  }
 ],
 "metadata": {
  "kernelspec": {
   "display_name": "Python 3",
   "language": "python",
   "name": "python3"
  },
  "language_info": {
   "codemirror_mode": {
    "name": "ipython",
    "version": 3
   },
   "file_extension": ".py",
   "mimetype": "text/x-python",
   "name": "python",
   "nbconvert_exporter": "python",
   "pygments_lexer": "ipython3",
   "version": "3.8.18"
  }
 },
 "nbformat": 4,
 "nbformat_minor": 5
}
